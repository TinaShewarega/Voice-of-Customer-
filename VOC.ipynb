{
  "cells": [
    {
      "cell_type": "code",
      "execution_count": null,
      "id": "973847e0",
      "metadata": {
        "colab": {
          "base_uri": "https://localhost:8080/",
          "height": 408
        },
        "id": "973847e0",
        "outputId": "c7b49307-a66b-4332-ed9a-24906a7d26db"
      },
      "outputs": [
        {
          "output_type": "error",
          "ename": "FileNotFoundError",
          "evalue": "ignored",
          "traceback": [
            "\u001b[0;31m---------------------------------------------------------------------------\u001b[0m",
            "\u001b[0;31mFileNotFoundError\u001b[0m                         Traceback (most recent call last)",
            "\u001b[0;32m<ipython-input-2-6ab0e4b2d691>\u001b[0m in \u001b[0;36m<cell line: 8>\u001b[0;34m()\u001b[0m\n\u001b[1;32m      6\u001b[0m \u001b[0mjson_path\u001b[0m \u001b[0;34m=\u001b[0m \u001b[0;34mf'{voc_dir}/Toys_and_Games_5.json'\u001b[0m\u001b[0;34m\u001b[0m\u001b[0;34m\u001b[0m\u001b[0m\n\u001b[1;32m      7\u001b[0m \u001b[0;34m\u001b[0m\u001b[0m\n\u001b[0;32m----> 8\u001b[0;31m \u001b[0mdf\u001b[0m \u001b[0;34m=\u001b[0m \u001b[0mpd\u001b[0m\u001b[0;34m.\u001b[0m\u001b[0mread_json\u001b[0m\u001b[0;34m(\u001b[0m\u001b[0mjson_path\u001b[0m\u001b[0;34m,\u001b[0m \u001b[0mlines\u001b[0m\u001b[0;34m=\u001b[0m\u001b[0;32mTrue\u001b[0m\u001b[0;34m)\u001b[0m\u001b[0;34m\u001b[0m\u001b[0;34m\u001b[0m\u001b[0m\n\u001b[0m\u001b[1;32m      9\u001b[0m \u001b[0;34m\u001b[0m\u001b[0m\n\u001b[1;32m     10\u001b[0m \u001b[0;31m#with open(json_path, 'r') as json_file:\u001b[0m\u001b[0;34m\u001b[0m\u001b[0;34m\u001b[0m\u001b[0m\n",
            "\u001b[0;32m/usr/local/lib/python3.10/dist-packages/pandas/util/_decorators.py\u001b[0m in \u001b[0;36mwrapper\u001b[0;34m(*args, **kwargs)\u001b[0m\n\u001b[1;32m    209\u001b[0m                 \u001b[0;32melse\u001b[0m\u001b[0;34m:\u001b[0m\u001b[0;34m\u001b[0m\u001b[0;34m\u001b[0m\u001b[0m\n\u001b[1;32m    210\u001b[0m                     \u001b[0mkwargs\u001b[0m\u001b[0;34m[\u001b[0m\u001b[0mnew_arg_name\u001b[0m\u001b[0;34m]\u001b[0m \u001b[0;34m=\u001b[0m \u001b[0mnew_arg_value\u001b[0m\u001b[0;34m\u001b[0m\u001b[0;34m\u001b[0m\u001b[0m\n\u001b[0;32m--> 211\u001b[0;31m             \u001b[0;32mreturn\u001b[0m \u001b[0mfunc\u001b[0m\u001b[0;34m(\u001b[0m\u001b[0;34m*\u001b[0m\u001b[0margs\u001b[0m\u001b[0;34m,\u001b[0m \u001b[0;34m**\u001b[0m\u001b[0mkwargs\u001b[0m\u001b[0;34m)\u001b[0m\u001b[0;34m\u001b[0m\u001b[0;34m\u001b[0m\u001b[0m\n\u001b[0m\u001b[1;32m    212\u001b[0m \u001b[0;34m\u001b[0m\u001b[0m\n\u001b[1;32m    213\u001b[0m         \u001b[0;32mreturn\u001b[0m \u001b[0mcast\u001b[0m\u001b[0;34m(\u001b[0m\u001b[0mF\u001b[0m\u001b[0;34m,\u001b[0m \u001b[0mwrapper\u001b[0m\u001b[0;34m)\u001b[0m\u001b[0;34m\u001b[0m\u001b[0;34m\u001b[0m\u001b[0m\n",
            "\u001b[0;32m/usr/local/lib/python3.10/dist-packages/pandas/util/_decorators.py\u001b[0m in \u001b[0;36mwrapper\u001b[0;34m(*args, **kwargs)\u001b[0m\n\u001b[1;32m    329\u001b[0m                     \u001b[0mstacklevel\u001b[0m\u001b[0;34m=\u001b[0m\u001b[0mfind_stack_level\u001b[0m\u001b[0;34m(\u001b[0m\u001b[0;34m)\u001b[0m\u001b[0;34m,\u001b[0m\u001b[0;34m\u001b[0m\u001b[0;34m\u001b[0m\u001b[0m\n\u001b[1;32m    330\u001b[0m                 )\n\u001b[0;32m--> 331\u001b[0;31m             \u001b[0;32mreturn\u001b[0m \u001b[0mfunc\u001b[0m\u001b[0;34m(\u001b[0m\u001b[0;34m*\u001b[0m\u001b[0margs\u001b[0m\u001b[0;34m,\u001b[0m \u001b[0;34m**\u001b[0m\u001b[0mkwargs\u001b[0m\u001b[0;34m)\u001b[0m\u001b[0;34m\u001b[0m\u001b[0;34m\u001b[0m\u001b[0m\n\u001b[0m\u001b[1;32m    332\u001b[0m \u001b[0;34m\u001b[0m\u001b[0m\n\u001b[1;32m    333\u001b[0m         \u001b[0;31m# error: \"Callable[[VarArg(Any), KwArg(Any)], Any]\" has no\u001b[0m\u001b[0;34m\u001b[0m\u001b[0;34m\u001b[0m\u001b[0m\n",
            "\u001b[0;32m/usr/local/lib/python3.10/dist-packages/pandas/io/json/_json.py\u001b[0m in \u001b[0;36mread_json\u001b[0;34m(path_or_buf, orient, typ, dtype, convert_axes, convert_dates, keep_default_dates, numpy, precise_float, date_unit, encoding, encoding_errors, lines, chunksize, compression, nrows, storage_options)\u001b[0m\n\u001b[1;32m    731\u001b[0m         \u001b[0mconvert_axes\u001b[0m \u001b[0;34m=\u001b[0m \u001b[0;32mTrue\u001b[0m\u001b[0;34m\u001b[0m\u001b[0;34m\u001b[0m\u001b[0m\n\u001b[1;32m    732\u001b[0m \u001b[0;34m\u001b[0m\u001b[0m\n\u001b[0;32m--> 733\u001b[0;31m     json_reader = JsonReader(\n\u001b[0m\u001b[1;32m    734\u001b[0m         \u001b[0mpath_or_buf\u001b[0m\u001b[0;34m,\u001b[0m\u001b[0;34m\u001b[0m\u001b[0;34m\u001b[0m\u001b[0m\n\u001b[1;32m    735\u001b[0m         \u001b[0morient\u001b[0m\u001b[0;34m=\u001b[0m\u001b[0morient\u001b[0m\u001b[0;34m,\u001b[0m\u001b[0;34m\u001b[0m\u001b[0;34m\u001b[0m\u001b[0m\n",
            "\u001b[0;32m/usr/local/lib/python3.10/dist-packages/pandas/io/json/_json.py\u001b[0m in \u001b[0;36m__init__\u001b[0;34m(self, filepath_or_buffer, orient, typ, dtype, convert_axes, convert_dates, keep_default_dates, numpy, precise_float, date_unit, encoding, lines, chunksize, compression, nrows, storage_options, encoding_errors)\u001b[0m\n\u001b[1;32m    816\u001b[0m                 \u001b[0;32mraise\u001b[0m \u001b[0mValueError\u001b[0m\u001b[0;34m(\u001b[0m\u001b[0;34m\"nrows can only be passed if lines=True\"\u001b[0m\u001b[0;34m)\u001b[0m\u001b[0;34m\u001b[0m\u001b[0;34m\u001b[0m\u001b[0m\n\u001b[1;32m    817\u001b[0m \u001b[0;34m\u001b[0m\u001b[0m\n\u001b[0;32m--> 818\u001b[0;31m         \u001b[0mdata\u001b[0m \u001b[0;34m=\u001b[0m \u001b[0mself\u001b[0m\u001b[0;34m.\u001b[0m\u001b[0m_get_data_from_filepath\u001b[0m\u001b[0;34m(\u001b[0m\u001b[0mfilepath_or_buffer\u001b[0m\u001b[0;34m)\u001b[0m\u001b[0;34m\u001b[0m\u001b[0;34m\u001b[0m\u001b[0m\n\u001b[0m\u001b[1;32m    819\u001b[0m         \u001b[0mself\u001b[0m\u001b[0;34m.\u001b[0m\u001b[0mdata\u001b[0m \u001b[0;34m=\u001b[0m \u001b[0mself\u001b[0m\u001b[0;34m.\u001b[0m\u001b[0m_preprocess_data\u001b[0m\u001b[0;34m(\u001b[0m\u001b[0mdata\u001b[0m\u001b[0;34m)\u001b[0m\u001b[0;34m\u001b[0m\u001b[0;34m\u001b[0m\u001b[0m\n\u001b[1;32m    820\u001b[0m \u001b[0;34m\u001b[0m\u001b[0m\n",
            "\u001b[0;32m/usr/local/lib/python3.10/dist-packages/pandas/io/json/_json.py\u001b[0m in \u001b[0;36m_get_data_from_filepath\u001b[0;34m(self, filepath_or_buffer)\u001b[0m\n\u001b[1;32m    872\u001b[0m             \u001b[0;32mand\u001b[0m \u001b[0;32mnot\u001b[0m \u001b[0mfile_exists\u001b[0m\u001b[0;34m(\u001b[0m\u001b[0mfilepath_or_buffer\u001b[0m\u001b[0;34m)\u001b[0m\u001b[0;34m\u001b[0m\u001b[0;34m\u001b[0m\u001b[0m\n\u001b[1;32m    873\u001b[0m         ):\n\u001b[0;32m--> 874\u001b[0;31m             \u001b[0;32mraise\u001b[0m \u001b[0mFileNotFoundError\u001b[0m\u001b[0;34m(\u001b[0m\u001b[0;34mf\"File {filepath_or_buffer} does not exist\"\u001b[0m\u001b[0;34m)\u001b[0m\u001b[0;34m\u001b[0m\u001b[0;34m\u001b[0m\u001b[0m\n\u001b[0m\u001b[1;32m    875\u001b[0m \u001b[0;34m\u001b[0m\u001b[0m\n\u001b[1;32m    876\u001b[0m         \u001b[0;32mreturn\u001b[0m \u001b[0mfilepath_or_buffer\u001b[0m\u001b[0;34m\u001b[0m\u001b[0;34m\u001b[0m\u001b[0m\n",
            "\u001b[0;31mFileNotFoundError\u001b[0m: File /Users/stellazwj/Library/CloudStorage/OneDrive-EmoryUniversity/4. Fourth Year/QTM 385 Data Analytics/Hasbro/Toys_and_Games_5.json/Toys_and_Games_5.json does not exist"
          ]
        }
      ],
      "source": [
        "import json\n",
        "import pandas as pd\n",
        "\n",
        "voc_dir = '/Users/stellazwj/Library/CloudStorage/OneDrive-EmoryUniversity/4. Fourth Year/QTM 385 Data Analytics/Hasbro/Toys_and_Games_5.json'\n",
        "\n",
        "json_path = f'{voc_dir}/Toys_and_Games_5.json'\n",
        "\n",
        "df = pd.read_json(json_path, lines=True)\n",
        "\n",
        "#with open(json_path, 'r') as json_file:\n",
        "#    for line in json_file:\n",
        "#        data = json.loads(line)\n",
        "#        print(\"JSON Content:\")\n",
        "#        print(data)\n",
        "\n",
        "#df.to_csv(f'{voc_dir}toys_and_games.csv', index = False)"
      ]
    },
    {
      "cell_type": "code",
      "execution_count": null,
      "id": "5eac7ea3",
      "metadata": {
        "id": "5eac7ea3",
        "outputId": "759446ec-6521-4f6e-a638-410289f2d908"
      },
      "outputs": [
        {
          "data": {
            "text/plain": [
              "Index(['overall', 'vote', 'verified', 'reviewTime', 'reviewerID', 'asin',\n",
              "       'style', 'reviewerName', 'reviewText', 'summary', 'unixReviewTime',\n",
              "       'image'],\n",
              "      dtype='object')"
            ]
          },
          "execution_count": 18,
          "metadata": {},
          "output_type": "execute_result"
        }
      ],
      "source": [
        "df.columns"
      ]
    },
    {
      "cell_type": "code",
      "execution_count": null,
      "id": "73ea62e2",
      "metadata": {
        "id": "73ea62e2",
        "outputId": "4b333951-9394-47e2-d8fa-8c2c5255699f"
      },
      "outputs": [
        {
          "data": {
            "text/html": [
              "<div>\n",
              "<style scoped>\n",
              "    .dataframe tbody tr th:only-of-type {\n",
              "        vertical-align: middle;\n",
              "    }\n",
              "\n",
              "    .dataframe tbody tr th {\n",
              "        vertical-align: top;\n",
              "    }\n",
              "\n",
              "    .dataframe thead th {\n",
              "        text-align: right;\n",
              "    }\n",
              "</style>\n",
              "<table border=\"1\" class=\"dataframe\">\n",
              "  <thead>\n",
              "    <tr style=\"text-align: right;\">\n",
              "      <th></th>\n",
              "      <th>overall</th>\n",
              "      <th>vote</th>\n",
              "      <th>verified</th>\n",
              "      <th>reviewTime</th>\n",
              "      <th>reviewerID</th>\n",
              "      <th>asin</th>\n",
              "      <th>style</th>\n",
              "      <th>reviewerName</th>\n",
              "      <th>reviewText</th>\n",
              "      <th>summary</th>\n",
              "      <th>unixReviewTime</th>\n",
              "      <th>image</th>\n",
              "    </tr>\n",
              "  </thead>\n",
              "  <tbody>\n",
              "    <tr>\n",
              "      <th>0</th>\n",
              "      <td>5</td>\n",
              "      <td>3</td>\n",
              "      <td>True</td>\n",
              "      <td>10 6, 2013</td>\n",
              "      <td>A2LSCFZM2FBZK7</td>\n",
              "      <td>0486427706</td>\n",
              "      <td>{'Format:': ' Paperback'}</td>\n",
              "      <td>Ginger</td>\n",
              "      <td>The stained glass pages are pretty cool. And i...</td>\n",
              "      <td>Nice book</td>\n",
              "      <td>1381017600</td>\n",
              "      <td>NaN</td>\n",
              "    </tr>\n",
              "    <tr>\n",
              "      <th>1</th>\n",
              "      <td>5</td>\n",
              "      <td>9</td>\n",
              "      <td>True</td>\n",
              "      <td>08 9, 2013</td>\n",
              "      <td>A3IXP5VS847GE5</td>\n",
              "      <td>0486427706</td>\n",
              "      <td>{'Format:': ' Paperback'}</td>\n",
              "      <td>Dragonflies &amp;amp; Autumn Leaves</td>\n",
              "      <td>My 11 y.o. loved this...and so do I (you know ...</td>\n",
              "      <td>Great pictures</td>\n",
              "      <td>1376006400</td>\n",
              "      <td>NaN</td>\n",
              "    </tr>\n",
              "    <tr>\n",
              "      <th>2</th>\n",
              "      <td>5</td>\n",
              "      <td>NaN</td>\n",
              "      <td>True</td>\n",
              "      <td>04 5, 2016</td>\n",
              "      <td>A1274GG1EB2JLJ</td>\n",
              "      <td>0486427706</td>\n",
              "      <td>{'Format:': ' Paperback'}</td>\n",
              "      <td>barbara ann</td>\n",
              "      <td>The pictures are great , I've done one and gav...</td>\n",
              "      <td>The pictures are great, I've done one and gave...</td>\n",
              "      <td>1459814400</td>\n",
              "      <td>NaN</td>\n",
              "    </tr>\n",
              "    <tr>\n",
              "      <th>3</th>\n",
              "      <td>5</td>\n",
              "      <td>3</td>\n",
              "      <td>True</td>\n",
              "      <td>02 13, 2016</td>\n",
              "      <td>A30X5EGBYAZQQK</td>\n",
              "      <td>0486427706</td>\n",
              "      <td>{'Format:': ' Paperback'}</td>\n",
              "      <td>Samantha</td>\n",
              "      <td>I absolutely love this book! Its translucent p...</td>\n",
              "      <td>So beautiful!</td>\n",
              "      <td>1455321600</td>\n",
              "      <td>NaN</td>\n",
              "    </tr>\n",
              "    <tr>\n",
              "      <th>4</th>\n",
              "      <td>5</td>\n",
              "      <td>NaN</td>\n",
              "      <td>True</td>\n",
              "      <td>12 10, 2015</td>\n",
              "      <td>A3U6UNXLAUY6ZV</td>\n",
              "      <td>0486427706</td>\n",
              "      <td>{'Format:': ' Paperback'}</td>\n",
              "      <td>CP in Texas</td>\n",
              "      <td>I love it!</td>\n",
              "      <td>Five Stars</td>\n",
              "      <td>1449705600</td>\n",
              "      <td>NaN</td>\n",
              "    </tr>\n",
              "    <tr>\n",
              "      <th>...</th>\n",
              "      <td>...</td>\n",
              "      <td>...</td>\n",
              "      <td>...</td>\n",
              "      <td>...</td>\n",
              "      <td>...</td>\n",
              "      <td>...</td>\n",
              "      <td>...</td>\n",
              "      <td>...</td>\n",
              "      <td>...</td>\n",
              "      <td>...</td>\n",
              "      <td>...</td>\n",
              "      <td>...</td>\n",
              "    </tr>\n",
              "    <tr>\n",
              "      <th>1828966</th>\n",
              "      <td>5</td>\n",
              "      <td>NaN</td>\n",
              "      <td>True</td>\n",
              "      <td>01 19, 2018</td>\n",
              "      <td>A3RRY2TCWM3MWU</td>\n",
              "      <td>B01HJ4GZIU</td>\n",
              "      <td>NaN</td>\n",
              "      <td>ash</td>\n",
              "      <td>This was a huge hit. I had purchased this and ...</td>\n",
              "      <td>Huge hit</td>\n",
              "      <td>1516320000</td>\n",
              "      <td>NaN</td>\n",
              "    </tr>\n",
              "    <tr>\n",
              "      <th>1828967</th>\n",
              "      <td>1</td>\n",
              "      <td>NaN</td>\n",
              "      <td>True</td>\n",
              "      <td>10 2, 2017</td>\n",
              "      <td>A2ZRCFLXI8J39O</td>\n",
              "      <td>B01HJ4GZIU</td>\n",
              "      <td>NaN</td>\n",
              "      <td>Laura</td>\n",
              "      <td>Ours didn't work!  Only 3 worked out of the wh...</td>\n",
              "      <td>Don't buy!</td>\n",
              "      <td>1506902400</td>\n",
              "      <td>NaN</td>\n",
              "    </tr>\n",
              "    <tr>\n",
              "      <th>1828968</th>\n",
              "      <td>5</td>\n",
              "      <td>NaN</td>\n",
              "      <td>True</td>\n",
              "      <td>10 5, 2018</td>\n",
              "      <td>A2IIP6L4PRAXVN</td>\n",
              "      <td>B01HJ8SCA0</td>\n",
              "      <td>NaN</td>\n",
              "      <td>JM</td>\n",
              "      <td>Simple plaything. Even my grandson cant break ...</td>\n",
              "      <td>Five Stars</td>\n",
              "      <td>1538697600</td>\n",
              "      <td>NaN</td>\n",
              "    </tr>\n",
              "    <tr>\n",
              "      <th>1828969</th>\n",
              "      <td>5</td>\n",
              "      <td>NaN</td>\n",
              "      <td>True</td>\n",
              "      <td>08 12, 2018</td>\n",
              "      <td>ACJH8FKNLSXIQ</td>\n",
              "      <td>B01HJDFWDK</td>\n",
              "      <td>{'Color:': ' 9.6v Battery pack'}</td>\n",
              "      <td>Steve Chen</td>\n",
              "      <td>These work well and are a nice change from the...</td>\n",
              "      <td>Good value</td>\n",
              "      <td>1534032000</td>\n",
              "      <td>NaN</td>\n",
              "    </tr>\n",
              "    <tr>\n",
              "      <th>1828970</th>\n",
              "      <td>5</td>\n",
              "      <td>NaN</td>\n",
              "      <td>True</td>\n",
              "      <td>07 9, 2018</td>\n",
              "      <td>A2KVWRRMFOYCW</td>\n",
              "      <td>B01HJDFWDK</td>\n",
              "      <td>{'Color:': ' 6v Battery pack'}</td>\n",
              "      <td>Rocco245</td>\n",
              "      <td>Great battery. Use it on a nitro engine.</td>\n",
              "      <td>Great</td>\n",
              "      <td>1531094400</td>\n",
              "      <td>NaN</td>\n",
              "    </tr>\n",
              "  </tbody>\n",
              "</table>\n",
              "<p>1828971 rows × 12 columns</p>\n",
              "</div>"
            ],
            "text/plain": [
              "         overall vote  verified   reviewTime      reviewerID        asin  \\\n",
              "0              5    3      True   10 6, 2013  A2LSCFZM2FBZK7  0486427706   \n",
              "1              5    9      True   08 9, 2013  A3IXP5VS847GE5  0486427706   \n",
              "2              5  NaN      True   04 5, 2016  A1274GG1EB2JLJ  0486427706   \n",
              "3              5    3      True  02 13, 2016  A30X5EGBYAZQQK  0486427706   \n",
              "4              5  NaN      True  12 10, 2015  A3U6UNXLAUY6ZV  0486427706   \n",
              "...          ...  ...       ...          ...             ...         ...   \n",
              "1828966        5  NaN      True  01 19, 2018  A3RRY2TCWM3MWU  B01HJ4GZIU   \n",
              "1828967        1  NaN      True   10 2, 2017  A2ZRCFLXI8J39O  B01HJ4GZIU   \n",
              "1828968        5  NaN      True   10 5, 2018  A2IIP6L4PRAXVN  B01HJ8SCA0   \n",
              "1828969        5  NaN      True  08 12, 2018   ACJH8FKNLSXIQ  B01HJDFWDK   \n",
              "1828970        5  NaN      True   07 9, 2018   A2KVWRRMFOYCW  B01HJDFWDK   \n",
              "\n",
              "                                    style                     reviewerName  \\\n",
              "0               {'Format:': ' Paperback'}                           Ginger   \n",
              "1               {'Format:': ' Paperback'}  Dragonflies &amp; Autumn Leaves   \n",
              "2               {'Format:': ' Paperback'}                      barbara ann   \n",
              "3               {'Format:': ' Paperback'}                         Samantha   \n",
              "4               {'Format:': ' Paperback'}                      CP in Texas   \n",
              "...                                   ...                              ...   \n",
              "1828966                               NaN                              ash   \n",
              "1828967                               NaN                            Laura   \n",
              "1828968                               NaN                               JM   \n",
              "1828969  {'Color:': ' 9.6v Battery pack'}                       Steve Chen   \n",
              "1828970    {'Color:': ' 6v Battery pack'}                         Rocco245   \n",
              "\n",
              "                                                reviewText  \\\n",
              "0        The stained glass pages are pretty cool. And i...   \n",
              "1        My 11 y.o. loved this...and so do I (you know ...   \n",
              "2        The pictures are great , I've done one and gav...   \n",
              "3        I absolutely love this book! Its translucent p...   \n",
              "4                                               I love it!   \n",
              "...                                                    ...   \n",
              "1828966  This was a huge hit. I had purchased this and ...   \n",
              "1828967  Ours didn't work!  Only 3 worked out of the wh...   \n",
              "1828968  Simple plaything. Even my grandson cant break ...   \n",
              "1828969  These work well and are a nice change from the...   \n",
              "1828970           Great battery. Use it on a nitro engine.   \n",
              "\n",
              "                                                   summary  unixReviewTime  \\\n",
              "0                                                Nice book      1381017600   \n",
              "1                                           Great pictures      1376006400   \n",
              "2        The pictures are great, I've done one and gave...      1459814400   \n",
              "3                                            So beautiful!      1455321600   \n",
              "4                                               Five Stars      1449705600   \n",
              "...                                                    ...             ...   \n",
              "1828966                                           Huge hit      1516320000   \n",
              "1828967                                         Don't buy!      1506902400   \n",
              "1828968                                         Five Stars      1538697600   \n",
              "1828969                                         Good value      1534032000   \n",
              "1828970                                              Great      1531094400   \n",
              "\n",
              "        image  \n",
              "0         NaN  \n",
              "1         NaN  \n",
              "2         NaN  \n",
              "3         NaN  \n",
              "4         NaN  \n",
              "...       ...  \n",
              "1828966   NaN  \n",
              "1828967   NaN  \n",
              "1828968   NaN  \n",
              "1828969   NaN  \n",
              "1828970   NaN  \n",
              "\n",
              "[1828971 rows x 12 columns]"
            ]
          },
          "execution_count": 19,
          "metadata": {},
          "output_type": "execute_result"
        }
      ],
      "source": [
        "df"
      ]
    },
    {
      "cell_type": "code",
      "execution_count": null,
      "id": "cc8e457d",
      "metadata": {
        "id": "cc8e457d"
      },
      "outputs": [],
      "source": [
        "df['image_filled'] = df['image'].fillna(0)\n",
        "\n",
        "def extract_image(row):\n",
        "    if row['image_filled'] != 0 :\n",
        "        return row['image_filled'][0]\n",
        "    else :\n",
        "        return 0\n",
        "\n",
        "df['image_filled_new'] = df.apply(extract_image, axis = 1)\n",
        "\n",
        "def extract_image_binary(row):\n",
        "    if row['image_filled'] != 0 :\n",
        "        return 1\n",
        "    else :\n",
        "        return 0\n",
        "\n",
        "df['image_binary'] = df.apply(extract_image, axis = 1)"
      ]
    },
    {
      "cell_type": "code",
      "execution_count": null,
      "id": "d3eefbd0",
      "metadata": {
        "id": "d3eefbd0",
        "outputId": "c7442878-1207-489d-83b3-f3e77f2fe0ab"
      },
      "outputs": [
        {
          "data": {
            "text/plain": [
              "array([0,\n",
              "       'https://images-na.ssl-images-amazon.com/images/I/718eZpbiTWL._SY88.jpg',\n",
              "       'https://images-na.ssl-images-amazon.com/images/I/71dwDX8++zL._SY88.jpg',\n",
              "       ...,\n",
              "       'https://images-na.ssl-images-amazon.com/images/I/61QtJ5PDhOL._SY88.jpg',\n",
              "       'https://images-na.ssl-images-amazon.com/images/I/81X0q+io-rL._SY88.jpg',\n",
              "       'https://images-na.ssl-images-amazon.com/images/I/61vP0ytc0XL._SY88.jpg'],\n",
              "      dtype=object)"
            ]
          },
          "execution_count": 38,
          "metadata": {},
          "output_type": "execute_result"
        }
      ],
      "source": [
        "df['image_filled_new'].unique()"
      ]
    },
    {
      "cell_type": "code",
      "execution_count": null,
      "id": "ecea86a9",
      "metadata": {
        "id": "ecea86a9",
        "outputId": "1ea9cc46-ff25-4c7f-c66b-6950d72d065e"
      },
      "outputs": [
        {
          "data": {
            "text/plain": [
              "Index(['overall', 'vote', 'verified', 'reviewTime', 'reviewerID', 'asin',\n",
              "       'style', 'reviewerName', 'reviewText', 'summary', 'unixReviewTime',\n",
              "       'image', 'image_filled', 'image_filled_new', 'image_binary'],\n",
              "      dtype='object')"
            ]
          },
          "execution_count": 40,
          "metadata": {},
          "output_type": "execute_result"
        }
      ],
      "source": [
        "df.columns"
      ]
    },
    {
      "cell_type": "code",
      "execution_count": null,
      "id": "06c852ad",
      "metadata": {
        "id": "06c852ad"
      },
      "outputs": [],
      "source": [
        "df_export = df.loc[:, ['overall', 'vote', 'verified', 'reviewTime', 'reviewerID', 'asin',\n",
        "       'style', 'reviewerName', 'reviewText', 'summary', 'unixReviewTime',\n",
        "       'image_filled_new', 'image_binary']]\n",
        "df_export.to_csv(f'{voc_dir}toys_and_games.csv', index = False)"
      ]
    },
    {
      "cell_type": "markdown",
      "id": "607d9b1f",
      "metadata": {
        "id": "607d9b1f"
      },
      "source": [
        "# Text Processing & Sentiment Scoring"
      ]
    },
    {
      "cell_type": "code",
      "execution_count": null,
      "id": "71f09565",
      "metadata": {
        "id": "71f09565",
        "outputId": "637db24e-a325-463c-8e0b-158298c7a06c"
      },
      "outputs": [
        {
          "name": "stderr",
          "output_type": "stream",
          "text": [
            "C:\\Users\\natha\\AppData\\Local\\Temp\\ipykernel_10340\\3687925.py:3: DtypeWarning: Columns (1) have mixed types. Specify dtype option on import or set low_memory=False.\n",
            "  df = pd.read_csv(f'{voc_dir}toys_and_games.csv')\n"
          ]
        },
        {
          "name": "stdout",
          "output_type": "stream",
          "text": [
            "(1828971, 13)\n"
          ]
        }
      ],
      "source": [
        "import pandas as pd\n",
        "voc_dir = '/Users/natha/Downloads/QTM385-DataAnalytics/voc_case/'\n",
        "df = pd.read_csv(f'{voc_dir}toys_and_games.csv')\n",
        "print(df.shape)"
      ]
    },
    {
      "cell_type": "code",
      "execution_count": null,
      "id": "91280968",
      "metadata": {
        "id": "91280968",
        "outputId": "c3cebbc1-2476-48ed-db82-2401833cccd9"
      },
      "outputs": [
        {
          "data": {
            "text/plain": [
              "5    1304534\n",
              "4     272227\n",
              "3     130517\n",
              "1      63431\n",
              "2      58262\n",
              "Name: overall, dtype: int64"
            ]
          },
          "execution_count": 5,
          "metadata": {},
          "output_type": "execute_result"
        }
      ],
      "source": [
        "df['overall'].value_counts()"
      ]
    },
    {
      "cell_type": "code",
      "execution_count": null,
      "id": "d9abddbd",
      "metadata": {
        "id": "d9abddbd",
        "outputId": "5dccb031-400c-4a80-b383-ea45e84560ce"
      },
      "outputs": [
        {
          "data": {
            "text/plain": [
              "overall                   0\n",
              "vote                1620926\n",
              "verified                  0\n",
              "reviewTime                0\n",
              "reviewerID                0\n",
              "asin                      0\n",
              "style               1305477\n",
              "reviewerName            173\n",
              "reviewText             1175\n",
              "summary                 374\n",
              "unixReviewTime            0\n",
              "image_filled_new          0\n",
              "image_binary              0\n",
              "dtype: int64"
            ]
          },
          "execution_count": 7,
          "metadata": {},
          "output_type": "execute_result"
        }
      ],
      "source": [
        "df.isna().sum()"
      ]
    },
    {
      "cell_type": "code",
      "execution_count": null,
      "id": "245e50f7",
      "metadata": {
        "id": "245e50f7",
        "outputId": "d2363aa0-43fc-48f0-9112-991fe0efd3ae"
      },
      "outputs": [
        {
          "name": "stdout",
          "output_type": "stream",
          "text": [
            "(1827454, 13)\n"
          ]
        }
      ],
      "source": [
        "df_drop = df.dropna(subset=['reviewText', 'summary'])\n",
        "print(df_drop.shape)"
      ]
    },
    {
      "cell_type": "code",
      "execution_count": null,
      "id": "c64ab25d",
      "metadata": {
        "id": "c64ab25d",
        "outputId": "325a2a77-29c0-4043-cd39-c7c4acc031d9"
      },
      "outputs": [
        {
          "data": {
            "text/plain": [
              "overall                   0\n",
              "vote                1619541\n",
              "verified                  0\n",
              "reviewTime                0\n",
              "reviewerID                0\n",
              "asin                      0\n",
              "style               1304341\n",
              "reviewerName            172\n",
              "reviewText                0\n",
              "summary                   0\n",
              "unixReviewTime            0\n",
              "image_filled_new          0\n",
              "image_binary              0\n",
              "dtype: int64"
            ]
          },
          "execution_count": 15,
          "metadata": {},
          "output_type": "execute_result"
        }
      ],
      "source": [
        "df_drop.isna().sum()"
      ]
    },
    {
      "cell_type": "code",
      "execution_count": null,
      "id": "3a4a7d25",
      "metadata": {
        "id": "3a4a7d25",
        "outputId": "e57367dd-22e6-4359-e770-bfd9e8f0ad3d"
      },
      "outputs": [
        {
          "name": "stderr",
          "output_type": "stream",
          "text": [
            "C:\\Users\\natha\\AppData\\Local\\Temp\\ipykernel_10340\\645664678.py:16: SettingWithCopyWarning: \n",
            "A value is trying to be set on a copy of a slice from a DataFrame.\n",
            "Try using .loc[row_indexer,col_indexer] = value instead\n",
            "\n",
            "See the caveats in the documentation: https://pandas.pydata.org/pandas-docs/stable/user_guide/indexing.html#returning-a-view-versus-a-copy\n",
            "  df_drop['reviewText_cleaned'] = df_drop.apply(text_preprocessing, axis = 1)\n",
            "C:\\Users\\natha\\AppData\\Local\\Temp\\ipykernel_10340\\645664678.py:26: SettingWithCopyWarning: \n",
            "A value is trying to be set on a copy of a slice from a DataFrame.\n",
            "Try using .loc[row_indexer,col_indexer] = value instead\n",
            "\n",
            "See the caveats in the documentation: https://pandas.pydata.org/pandas-docs/stable/user_guide/indexing.html#returning-a-view-versus-a-copy\n",
            "  df_drop['reviewText_scored'] = df_drop.apply(sentiment_scores, axis = 1)\n"
          ]
        }
      ],
      "source": [
        "import nltk\n",
        "from nltk.corpus import stopwords\n",
        "from nltk.tokenize import word_tokenize\n",
        "from nltk.sentiment.vader import SentimentIntensityAnalyzer\n",
        "import string\n",
        "import time\n",
        "\n",
        "### Method for Pre Processing\n",
        "stop_words = set(stopwords.words('english'))\n",
        "def text_preprocessing(row):\n",
        "    text = row['reviewText'].lower()\n",
        "    text = ''.join(char for char in text if char.isalpha() or char.isspace())\n",
        "    tokens = word_tokenize(text)\n",
        "    filtered_tokens = [word for word in tokens if word not in stop_words]\n",
        "    return ' '.join(filtered_tokens)\n",
        " ## Uncomment to Run\n",
        "df_drop['reviewText_cleaned'] = df_drop.apply(text_preprocessing, axis = 1)\n",
        "\n",
        "\n",
        "### Method for Sentiment Analysis\n",
        "sia = SentimentIntensityAnalyzer()\n",
        "def sentiment_scores(row):\n",
        "    d = sia.polarity_scores(row['reviewText_cleaned'])\n",
        "    return d['compound']\n",
        "\n",
        "## Uncomment to Run\n",
        "df_drop['reviewText_scored'] = df_drop.apply(sentiment_scores, axis = 1)"
      ]
    },
    {
      "cell_type": "code",
      "execution_count": null,
      "id": "59f5e741",
      "metadata": {
        "id": "59f5e741",
        "outputId": "f26879e0-c2e5-4cf8-a8cb-d808af7c1ef8"
      },
      "outputs": [
        {
          "data": {
            "text/html": [
              "<div>\n",
              "<style scoped>\n",
              "    .dataframe tbody tr th:only-of-type {\n",
              "        vertical-align: middle;\n",
              "    }\n",
              "\n",
              "    .dataframe tbody tr th {\n",
              "        vertical-align: top;\n",
              "    }\n",
              "\n",
              "    .dataframe thead th {\n",
              "        text-align: right;\n",
              "    }\n",
              "</style>\n",
              "<table border=\"1\" class=\"dataframe\">\n",
              "  <thead>\n",
              "    <tr style=\"text-align: right;\">\n",
              "      <th></th>\n",
              "      <th>overall</th>\n",
              "      <th>vote</th>\n",
              "      <th>verified</th>\n",
              "      <th>reviewTime</th>\n",
              "      <th>reviewerID</th>\n",
              "      <th>asin</th>\n",
              "      <th>style</th>\n",
              "      <th>reviewerName</th>\n",
              "      <th>reviewText</th>\n",
              "      <th>summary</th>\n",
              "      <th>unixReviewTime</th>\n",
              "      <th>image_filled_new</th>\n",
              "      <th>image_binary</th>\n",
              "      <th>reviewText_cleaned</th>\n",
              "      <th>reviewText_scored</th>\n",
              "    </tr>\n",
              "  </thead>\n",
              "  <tbody>\n",
              "    <tr>\n",
              "      <th>0</th>\n",
              "      <td>5</td>\n",
              "      <td>3</td>\n",
              "      <td>True</td>\n",
              "      <td>10 6, 2013</td>\n",
              "      <td>A2LSCFZM2FBZK7</td>\n",
              "      <td>0486427706</td>\n",
              "      <td>{'Format:': ' Paperback'}</td>\n",
              "      <td>Ginger</td>\n",
              "      <td>The stained glass pages are pretty cool. And i...</td>\n",
              "      <td>Nice book</td>\n",
              "      <td>1381017600</td>\n",
              "      <td>0</td>\n",
              "      <td>0</td>\n",
              "      <td>stained glass pages pretty cool nice black out...</td>\n",
              "      <td>0.9233</td>\n",
              "    </tr>\n",
              "    <tr>\n",
              "      <th>1</th>\n",
              "      <td>5</td>\n",
              "      <td>9</td>\n",
              "      <td>True</td>\n",
              "      <td>08 9, 2013</td>\n",
              "      <td>A3IXP5VS847GE5</td>\n",
              "      <td>0486427706</td>\n",
              "      <td>{'Format:': ' Paperback'}</td>\n",
              "      <td>Dragonflies &amp;amp; Autumn Leaves</td>\n",
              "      <td>My 11 y.o. loved this...and so do I (you know ...</td>\n",
              "      <td>Great pictures</td>\n",
              "      <td>1376006400</td>\n",
              "      <td>0</td>\n",
              "      <td>0</td>\n",
              "      <td>yo loved thisand know really bought wanted see...</td>\n",
              "      <td>0.9823</td>\n",
              "    </tr>\n",
              "    <tr>\n",
              "      <th>2</th>\n",
              "      <td>5</td>\n",
              "      <td>NaN</td>\n",
              "      <td>True</td>\n",
              "      <td>04 5, 2016</td>\n",
              "      <td>A1274GG1EB2JLJ</td>\n",
              "      <td>0486427706</td>\n",
              "      <td>{'Format:': ' Paperback'}</td>\n",
              "      <td>barbara ann</td>\n",
              "      <td>The pictures are great , I've done one and gav...</td>\n",
              "      <td>The pictures are great, I've done one and gave...</td>\n",
              "      <td>1459814400</td>\n",
              "      <td>0</td>\n",
              "      <td>0</td>\n",
              "      <td>pictures great ive done one gave friend mine l...</td>\n",
              "      <td>0.8779</td>\n",
              "    </tr>\n",
              "    <tr>\n",
              "      <th>3</th>\n",
              "      <td>5</td>\n",
              "      <td>3</td>\n",
              "      <td>True</td>\n",
              "      <td>02 13, 2016</td>\n",
              "      <td>A30X5EGBYAZQQK</td>\n",
              "      <td>0486427706</td>\n",
              "      <td>{'Format:': ' Paperback'}</td>\n",
              "      <td>Samantha</td>\n",
              "      <td>I absolutely love this book! Its translucent p...</td>\n",
              "      <td>So beautiful!</td>\n",
              "      <td>1455321600</td>\n",
              "      <td>0</td>\n",
              "      <td>0</td>\n",
              "      <td>absolutely love book translucent paper make su...</td>\n",
              "      <td>0.9670</td>\n",
              "    </tr>\n",
              "    <tr>\n",
              "      <th>4</th>\n",
              "      <td>5</td>\n",
              "      <td>NaN</td>\n",
              "      <td>True</td>\n",
              "      <td>12 10, 2015</td>\n",
              "      <td>A3U6UNXLAUY6ZV</td>\n",
              "      <td>0486427706</td>\n",
              "      <td>{'Format:': ' Paperback'}</td>\n",
              "      <td>CP in Texas</td>\n",
              "      <td>I love it!</td>\n",
              "      <td>Five Stars</td>\n",
              "      <td>1449705600</td>\n",
              "      <td>0</td>\n",
              "      <td>0</td>\n",
              "      <td>love</td>\n",
              "      <td>0.6369</td>\n",
              "    </tr>\n",
              "    <tr>\n",
              "      <th>...</th>\n",
              "      <td>...</td>\n",
              "      <td>...</td>\n",
              "      <td>...</td>\n",
              "      <td>...</td>\n",
              "      <td>...</td>\n",
              "      <td>...</td>\n",
              "      <td>...</td>\n",
              "      <td>...</td>\n",
              "      <td>...</td>\n",
              "      <td>...</td>\n",
              "      <td>...</td>\n",
              "      <td>...</td>\n",
              "      <td>...</td>\n",
              "      <td>...</td>\n",
              "      <td>...</td>\n",
              "    </tr>\n",
              "    <tr>\n",
              "      <th>1828966</th>\n",
              "      <td>5</td>\n",
              "      <td>NaN</td>\n",
              "      <td>True</td>\n",
              "      <td>01 19, 2018</td>\n",
              "      <td>A3RRY2TCWM3MWU</td>\n",
              "      <td>B01HJ4GZIU</td>\n",
              "      <td>NaN</td>\n",
              "      <td>ash</td>\n",
              "      <td>This was a huge hit. I had purchased this and ...</td>\n",
              "      <td>Huge hit</td>\n",
              "      <td>1516320000</td>\n",
              "      <td>0</td>\n",
              "      <td>0</td>\n",
              "      <td>huge hit purchased stuff party favors kids adu...</td>\n",
              "      <td>0.9360</td>\n",
              "    </tr>\n",
              "    <tr>\n",
              "      <th>1828967</th>\n",
              "      <td>1</td>\n",
              "      <td>NaN</td>\n",
              "      <td>True</td>\n",
              "      <td>10 2, 2017</td>\n",
              "      <td>A2ZRCFLXI8J39O</td>\n",
              "      <td>B01HJ4GZIU</td>\n",
              "      <td>NaN</td>\n",
              "      <td>Laura</td>\n",
              "      <td>Ours didn't work!  Only 3 worked out of the wh...</td>\n",
              "      <td>Don't buy!</td>\n",
              "      <td>1506902400</td>\n",
              "      <td>0</td>\n",
              "      <td>0</td>\n",
              "      <td>didnt work worked whole package operate get li...</td>\n",
              "      <td>-0.4767</td>\n",
              "    </tr>\n",
              "    <tr>\n",
              "      <th>1828968</th>\n",
              "      <td>5</td>\n",
              "      <td>NaN</td>\n",
              "      <td>True</td>\n",
              "      <td>10 5, 2018</td>\n",
              "      <td>A2IIP6L4PRAXVN</td>\n",
              "      <td>B01HJ8SCA0</td>\n",
              "      <td>NaN</td>\n",
              "      <td>JM</td>\n",
              "      <td>Simple plaything. Even my grandson cant break ...</td>\n",
              "      <td>Five Stars</td>\n",
              "      <td>1538697600</td>\n",
              "      <td>0</td>\n",
              "      <td>0</td>\n",
              "      <td>simple plaything even grandson cant break yet</td>\n",
              "      <td>0.0000</td>\n",
              "    </tr>\n",
              "    <tr>\n",
              "      <th>1828969</th>\n",
              "      <td>5</td>\n",
              "      <td>NaN</td>\n",
              "      <td>True</td>\n",
              "      <td>08 12, 2018</td>\n",
              "      <td>ACJH8FKNLSXIQ</td>\n",
              "      <td>B01HJDFWDK</td>\n",
              "      <td>{'Color:': ' 9.6v Battery pack'}</td>\n",
              "      <td>Steve Chen</td>\n",
              "      <td>These work well and are a nice change from the...</td>\n",
              "      <td>Good value</td>\n",
              "      <td>1534032000</td>\n",
              "      <td>0</td>\n",
              "      <td>0</td>\n",
              "      <td>work well nice change old batteries replaced a...</td>\n",
              "      <td>0.7783</td>\n",
              "    </tr>\n",
              "    <tr>\n",
              "      <th>1828970</th>\n",
              "      <td>5</td>\n",
              "      <td>NaN</td>\n",
              "      <td>True</td>\n",
              "      <td>07 9, 2018</td>\n",
              "      <td>A2KVWRRMFOYCW</td>\n",
              "      <td>B01HJDFWDK</td>\n",
              "      <td>{'Color:': ' 6v Battery pack'}</td>\n",
              "      <td>Rocco245</td>\n",
              "      <td>Great battery. Use it on a nitro engine.</td>\n",
              "      <td>Great</td>\n",
              "      <td>1531094400</td>\n",
              "      <td>0</td>\n",
              "      <td>0</td>\n",
              "      <td>great battery use nitro engine</td>\n",
              "      <td>0.6249</td>\n",
              "    </tr>\n",
              "  </tbody>\n",
              "</table>\n",
              "<p>1827454 rows × 15 columns</p>\n",
              "</div>"
            ],
            "text/plain": [
              "         overall vote  verified   reviewTime      reviewerID        asin  \\\n",
              "0              5    3      True   10 6, 2013  A2LSCFZM2FBZK7  0486427706   \n",
              "1              5    9      True   08 9, 2013  A3IXP5VS847GE5  0486427706   \n",
              "2              5  NaN      True   04 5, 2016  A1274GG1EB2JLJ  0486427706   \n",
              "3              5    3      True  02 13, 2016  A30X5EGBYAZQQK  0486427706   \n",
              "4              5  NaN      True  12 10, 2015  A3U6UNXLAUY6ZV  0486427706   \n",
              "...          ...  ...       ...          ...             ...         ...   \n",
              "1828966        5  NaN      True  01 19, 2018  A3RRY2TCWM3MWU  B01HJ4GZIU   \n",
              "1828967        1  NaN      True   10 2, 2017  A2ZRCFLXI8J39O  B01HJ4GZIU   \n",
              "1828968        5  NaN      True   10 5, 2018  A2IIP6L4PRAXVN  B01HJ8SCA0   \n",
              "1828969        5  NaN      True  08 12, 2018   ACJH8FKNLSXIQ  B01HJDFWDK   \n",
              "1828970        5  NaN      True   07 9, 2018   A2KVWRRMFOYCW  B01HJDFWDK   \n",
              "\n",
              "                                    style                     reviewerName  \\\n",
              "0               {'Format:': ' Paperback'}                           Ginger   \n",
              "1               {'Format:': ' Paperback'}  Dragonflies &amp; Autumn Leaves   \n",
              "2               {'Format:': ' Paperback'}                      barbara ann   \n",
              "3               {'Format:': ' Paperback'}                         Samantha   \n",
              "4               {'Format:': ' Paperback'}                      CP in Texas   \n",
              "...                                   ...                              ...   \n",
              "1828966                               NaN                              ash   \n",
              "1828967                               NaN                            Laura   \n",
              "1828968                               NaN                               JM   \n",
              "1828969  {'Color:': ' 9.6v Battery pack'}                       Steve Chen   \n",
              "1828970    {'Color:': ' 6v Battery pack'}                         Rocco245   \n",
              "\n",
              "                                                reviewText  \\\n",
              "0        The stained glass pages are pretty cool. And i...   \n",
              "1        My 11 y.o. loved this...and so do I (you know ...   \n",
              "2        The pictures are great , I've done one and gav...   \n",
              "3        I absolutely love this book! Its translucent p...   \n",
              "4                                               I love it!   \n",
              "...                                                    ...   \n",
              "1828966  This was a huge hit. I had purchased this and ...   \n",
              "1828967  Ours didn't work!  Only 3 worked out of the wh...   \n",
              "1828968  Simple plaything. Even my grandson cant break ...   \n",
              "1828969  These work well and are a nice change from the...   \n",
              "1828970           Great battery. Use it on a nitro engine.   \n",
              "\n",
              "                                                   summary  unixReviewTime  \\\n",
              "0                                                Nice book      1381017600   \n",
              "1                                           Great pictures      1376006400   \n",
              "2        The pictures are great, I've done one and gave...      1459814400   \n",
              "3                                            So beautiful!      1455321600   \n",
              "4                                               Five Stars      1449705600   \n",
              "...                                                    ...             ...   \n",
              "1828966                                           Huge hit      1516320000   \n",
              "1828967                                         Don't buy!      1506902400   \n",
              "1828968                                         Five Stars      1538697600   \n",
              "1828969                                         Good value      1534032000   \n",
              "1828970                                              Great      1531094400   \n",
              "\n",
              "        image_filled_new image_binary  \\\n",
              "0                      0            0   \n",
              "1                      0            0   \n",
              "2                      0            0   \n",
              "3                      0            0   \n",
              "4                      0            0   \n",
              "...                  ...          ...   \n",
              "1828966                0            0   \n",
              "1828967                0            0   \n",
              "1828968                0            0   \n",
              "1828969                0            0   \n",
              "1828970                0            0   \n",
              "\n",
              "                                        reviewText_cleaned  reviewText_scored  \n",
              "0        stained glass pages pretty cool nice black out...             0.9233  \n",
              "1        yo loved thisand know really bought wanted see...             0.9823  \n",
              "2        pictures great ive done one gave friend mine l...             0.8779  \n",
              "3        absolutely love book translucent paper make su...             0.9670  \n",
              "4                                                     love             0.6369  \n",
              "...                                                    ...                ...  \n",
              "1828966  huge hit purchased stuff party favors kids adu...             0.9360  \n",
              "1828967  didnt work worked whole package operate get li...            -0.4767  \n",
              "1828968      simple plaything even grandson cant break yet             0.0000  \n",
              "1828969  work well nice change old batteries replaced a...             0.7783  \n",
              "1828970                     great battery use nitro engine             0.6249  \n",
              "\n",
              "[1827454 rows x 15 columns]"
            ]
          },
          "execution_count": 4,
          "metadata": {},
          "output_type": "execute_result"
        }
      ],
      "source": [
        "df_drop"
      ]
    },
    {
      "cell_type": "code",
      "execution_count": null,
      "id": "2f442b3b",
      "metadata": {
        "id": "2f442b3b"
      },
      "outputs": [],
      "source": [
        "# Save df\n",
        "voc_dir = '/Users/natha/Downloads/QTM385-DataAnalytics/voc_case/'\n",
        "df_drop.to_csv(f'{voc_dir}processed_scored_df.csv', index = False)"
      ]
    },
    {
      "cell_type": "markdown",
      "id": "d7c23ce5",
      "metadata": {
        "id": "d7c23ce5"
      },
      "source": [
        "# Analyzing Sentiment Scores & Down Stream Analysis"
      ]
    },
    {
      "cell_type": "code",
      "source": [
        "import pandas as pd\n",
        "voc_dir = '/Users/stellazwj/Library/CloudStorage/OneDrive-EmoryUniversity/4. Fourth Year/QTM 385 Data Analytics/Hasbro/'\n",
        "df = pd.read_csv(f'{voc_dir}processed_scored_df.csv')\n",
        "df = pd.read_csv('/Users ')"
      ],
      "metadata": {
        "colab": {
          "base_uri": "https://localhost:8080/",
          "height": 381
        },
        "id": "Cu-9gJHF4SC7",
        "outputId": "f86b942d-ee43-49ad-eeb7-e3cc0a2ea033"
      },
      "id": "Cu-9gJHF4SC7",
      "execution_count": null,
      "outputs": [
        {
          "output_type": "error",
          "ename": "FileNotFoundError",
          "evalue": "ignored",
          "traceback": [
            "\u001b[0;31m---------------------------------------------------------------------------\u001b[0m",
            "\u001b[0;31mFileNotFoundError\u001b[0m                         Traceback (most recent call last)",
            "\u001b[0;32m<ipython-input-7-b2e5d9af9a77>\u001b[0m in \u001b[0;36m<cell line: 3>\u001b[0;34m()\u001b[0m\n\u001b[1;32m      1\u001b[0m \u001b[0;32mimport\u001b[0m \u001b[0mpandas\u001b[0m \u001b[0;32mas\u001b[0m \u001b[0mpd\u001b[0m\u001b[0;34m\u001b[0m\u001b[0;34m\u001b[0m\u001b[0m\n\u001b[1;32m      2\u001b[0m \u001b[0mvoc_dir\u001b[0m \u001b[0;34m=\u001b[0m \u001b[0;34m'/Users/stellazwj/Library/CloudStorage/OneDrive-EmoryUniversity/4. Fourth Year/QTM 385 Data Analytics/Hasbro/'\u001b[0m\u001b[0;34m\u001b[0m\u001b[0;34m\u001b[0m\u001b[0m\n\u001b[0;32m----> 3\u001b[0;31m \u001b[0mdf\u001b[0m \u001b[0;34m=\u001b[0m \u001b[0mpd\u001b[0m\u001b[0;34m.\u001b[0m\u001b[0mread_csv\u001b[0m\u001b[0;34m(\u001b[0m\u001b[0;34mf'{voc_dir}processed_scored_df.csv'\u001b[0m\u001b[0;34m)\u001b[0m\u001b[0;34m\u001b[0m\u001b[0;34m\u001b[0m\u001b[0m\n\u001b[0m",
            "\u001b[0;32m/usr/local/lib/python3.10/dist-packages/pandas/util/_decorators.py\u001b[0m in \u001b[0;36mwrapper\u001b[0;34m(*args, **kwargs)\u001b[0m\n\u001b[1;32m    209\u001b[0m                 \u001b[0;32melse\u001b[0m\u001b[0;34m:\u001b[0m\u001b[0;34m\u001b[0m\u001b[0;34m\u001b[0m\u001b[0m\n\u001b[1;32m    210\u001b[0m                     \u001b[0mkwargs\u001b[0m\u001b[0;34m[\u001b[0m\u001b[0mnew_arg_name\u001b[0m\u001b[0;34m]\u001b[0m \u001b[0;34m=\u001b[0m \u001b[0mnew_arg_value\u001b[0m\u001b[0;34m\u001b[0m\u001b[0;34m\u001b[0m\u001b[0m\n\u001b[0;32m--> 211\u001b[0;31m             \u001b[0;32mreturn\u001b[0m \u001b[0mfunc\u001b[0m\u001b[0;34m(\u001b[0m\u001b[0;34m*\u001b[0m\u001b[0margs\u001b[0m\u001b[0;34m,\u001b[0m \u001b[0;34m**\u001b[0m\u001b[0mkwargs\u001b[0m\u001b[0;34m)\u001b[0m\u001b[0;34m\u001b[0m\u001b[0;34m\u001b[0m\u001b[0m\n\u001b[0m\u001b[1;32m    212\u001b[0m \u001b[0;34m\u001b[0m\u001b[0m\n\u001b[1;32m    213\u001b[0m         \u001b[0;32mreturn\u001b[0m \u001b[0mcast\u001b[0m\u001b[0;34m(\u001b[0m\u001b[0mF\u001b[0m\u001b[0;34m,\u001b[0m \u001b[0mwrapper\u001b[0m\u001b[0;34m)\u001b[0m\u001b[0;34m\u001b[0m\u001b[0;34m\u001b[0m\u001b[0m\n",
            "\u001b[0;32m/usr/local/lib/python3.10/dist-packages/pandas/util/_decorators.py\u001b[0m in \u001b[0;36mwrapper\u001b[0;34m(*args, **kwargs)\u001b[0m\n\u001b[1;32m    329\u001b[0m                     \u001b[0mstacklevel\u001b[0m\u001b[0;34m=\u001b[0m\u001b[0mfind_stack_level\u001b[0m\u001b[0;34m(\u001b[0m\u001b[0;34m)\u001b[0m\u001b[0;34m,\u001b[0m\u001b[0;34m\u001b[0m\u001b[0;34m\u001b[0m\u001b[0m\n\u001b[1;32m    330\u001b[0m                 )\n\u001b[0;32m--> 331\u001b[0;31m             \u001b[0;32mreturn\u001b[0m \u001b[0mfunc\u001b[0m\u001b[0;34m(\u001b[0m\u001b[0;34m*\u001b[0m\u001b[0margs\u001b[0m\u001b[0;34m,\u001b[0m \u001b[0;34m**\u001b[0m\u001b[0mkwargs\u001b[0m\u001b[0;34m)\u001b[0m\u001b[0;34m\u001b[0m\u001b[0;34m\u001b[0m\u001b[0m\n\u001b[0m\u001b[1;32m    332\u001b[0m \u001b[0;34m\u001b[0m\u001b[0m\n\u001b[1;32m    333\u001b[0m         \u001b[0;31m# error: \"Callable[[VarArg(Any), KwArg(Any)], Any]\" has no\u001b[0m\u001b[0;34m\u001b[0m\u001b[0;34m\u001b[0m\u001b[0m\n",
            "\u001b[0;32m/usr/local/lib/python3.10/dist-packages/pandas/io/parsers/readers.py\u001b[0m in \u001b[0;36mread_csv\u001b[0;34m(filepath_or_buffer, sep, delimiter, header, names, index_col, usecols, squeeze, prefix, mangle_dupe_cols, dtype, engine, converters, true_values, false_values, skipinitialspace, skiprows, skipfooter, nrows, na_values, keep_default_na, na_filter, verbose, skip_blank_lines, parse_dates, infer_datetime_format, keep_date_col, date_parser, dayfirst, cache_dates, iterator, chunksize, compression, thousands, decimal, lineterminator, quotechar, quoting, doublequote, escapechar, comment, encoding, encoding_errors, dialect, error_bad_lines, warn_bad_lines, on_bad_lines, delim_whitespace, low_memory, memory_map, float_precision, storage_options)\u001b[0m\n\u001b[1;32m    948\u001b[0m     \u001b[0mkwds\u001b[0m\u001b[0;34m.\u001b[0m\u001b[0mupdate\u001b[0m\u001b[0;34m(\u001b[0m\u001b[0mkwds_defaults\u001b[0m\u001b[0;34m)\u001b[0m\u001b[0;34m\u001b[0m\u001b[0;34m\u001b[0m\u001b[0m\n\u001b[1;32m    949\u001b[0m \u001b[0;34m\u001b[0m\u001b[0m\n\u001b[0;32m--> 950\u001b[0;31m     \u001b[0;32mreturn\u001b[0m \u001b[0m_read\u001b[0m\u001b[0;34m(\u001b[0m\u001b[0mfilepath_or_buffer\u001b[0m\u001b[0;34m,\u001b[0m \u001b[0mkwds\u001b[0m\u001b[0;34m)\u001b[0m\u001b[0;34m\u001b[0m\u001b[0;34m\u001b[0m\u001b[0m\n\u001b[0m\u001b[1;32m    951\u001b[0m \u001b[0;34m\u001b[0m\u001b[0m\n\u001b[1;32m    952\u001b[0m \u001b[0;34m\u001b[0m\u001b[0m\n",
            "\u001b[0;32m/usr/local/lib/python3.10/dist-packages/pandas/io/parsers/readers.py\u001b[0m in \u001b[0;36m_read\u001b[0;34m(filepath_or_buffer, kwds)\u001b[0m\n\u001b[1;32m    603\u001b[0m \u001b[0;34m\u001b[0m\u001b[0m\n\u001b[1;32m    604\u001b[0m     \u001b[0;31m# Create the parser.\u001b[0m\u001b[0;34m\u001b[0m\u001b[0;34m\u001b[0m\u001b[0m\n\u001b[0;32m--> 605\u001b[0;31m     \u001b[0mparser\u001b[0m \u001b[0;34m=\u001b[0m \u001b[0mTextFileReader\u001b[0m\u001b[0;34m(\u001b[0m\u001b[0mfilepath_or_buffer\u001b[0m\u001b[0;34m,\u001b[0m \u001b[0;34m**\u001b[0m\u001b[0mkwds\u001b[0m\u001b[0;34m)\u001b[0m\u001b[0;34m\u001b[0m\u001b[0;34m\u001b[0m\u001b[0m\n\u001b[0m\u001b[1;32m    606\u001b[0m \u001b[0;34m\u001b[0m\u001b[0m\n\u001b[1;32m    607\u001b[0m     \u001b[0;32mif\u001b[0m \u001b[0mchunksize\u001b[0m \u001b[0;32mor\u001b[0m \u001b[0miterator\u001b[0m\u001b[0;34m:\u001b[0m\u001b[0;34m\u001b[0m\u001b[0;34m\u001b[0m\u001b[0m\n",
            "\u001b[0;32m/usr/local/lib/python3.10/dist-packages/pandas/io/parsers/readers.py\u001b[0m in \u001b[0;36m__init__\u001b[0;34m(self, f, engine, **kwds)\u001b[0m\n\u001b[1;32m   1440\u001b[0m \u001b[0;34m\u001b[0m\u001b[0m\n\u001b[1;32m   1441\u001b[0m         \u001b[0mself\u001b[0m\u001b[0;34m.\u001b[0m\u001b[0mhandles\u001b[0m\u001b[0;34m:\u001b[0m \u001b[0mIOHandles\u001b[0m \u001b[0;34m|\u001b[0m \u001b[0;32mNone\u001b[0m \u001b[0;34m=\u001b[0m \u001b[0;32mNone\u001b[0m\u001b[0;34m\u001b[0m\u001b[0;34m\u001b[0m\u001b[0m\n\u001b[0;32m-> 1442\u001b[0;31m         \u001b[0mself\u001b[0m\u001b[0;34m.\u001b[0m\u001b[0m_engine\u001b[0m \u001b[0;34m=\u001b[0m \u001b[0mself\u001b[0m\u001b[0;34m.\u001b[0m\u001b[0m_make_engine\u001b[0m\u001b[0;34m(\u001b[0m\u001b[0mf\u001b[0m\u001b[0;34m,\u001b[0m \u001b[0mself\u001b[0m\u001b[0;34m.\u001b[0m\u001b[0mengine\u001b[0m\u001b[0;34m)\u001b[0m\u001b[0;34m\u001b[0m\u001b[0;34m\u001b[0m\u001b[0m\n\u001b[0m\u001b[1;32m   1443\u001b[0m \u001b[0;34m\u001b[0m\u001b[0m\n\u001b[1;32m   1444\u001b[0m     \u001b[0;32mdef\u001b[0m \u001b[0mclose\u001b[0m\u001b[0;34m(\u001b[0m\u001b[0mself\u001b[0m\u001b[0;34m)\u001b[0m \u001b[0;34m->\u001b[0m \u001b[0;32mNone\u001b[0m\u001b[0;34m:\u001b[0m\u001b[0;34m\u001b[0m\u001b[0;34m\u001b[0m\u001b[0m\n",
            "\u001b[0;32m/usr/local/lib/python3.10/dist-packages/pandas/io/parsers/readers.py\u001b[0m in \u001b[0;36m_make_engine\u001b[0;34m(self, f, engine)\u001b[0m\n\u001b[1;32m   1733\u001b[0m                 \u001b[0;32mif\u001b[0m \u001b[0;34m\"b\"\u001b[0m \u001b[0;32mnot\u001b[0m \u001b[0;32min\u001b[0m \u001b[0mmode\u001b[0m\u001b[0;34m:\u001b[0m\u001b[0;34m\u001b[0m\u001b[0;34m\u001b[0m\u001b[0m\n\u001b[1;32m   1734\u001b[0m                     \u001b[0mmode\u001b[0m \u001b[0;34m+=\u001b[0m \u001b[0;34m\"b\"\u001b[0m\u001b[0;34m\u001b[0m\u001b[0;34m\u001b[0m\u001b[0m\n\u001b[0;32m-> 1735\u001b[0;31m             self.handles = get_handle(\n\u001b[0m\u001b[1;32m   1736\u001b[0m                 \u001b[0mf\u001b[0m\u001b[0;34m,\u001b[0m\u001b[0;34m\u001b[0m\u001b[0;34m\u001b[0m\u001b[0m\n\u001b[1;32m   1737\u001b[0m                 \u001b[0mmode\u001b[0m\u001b[0;34m,\u001b[0m\u001b[0;34m\u001b[0m\u001b[0;34m\u001b[0m\u001b[0m\n",
            "\u001b[0;32m/usr/local/lib/python3.10/dist-packages/pandas/io/common.py\u001b[0m in \u001b[0;36mget_handle\u001b[0;34m(path_or_buf, mode, encoding, compression, memory_map, is_text, errors, storage_options)\u001b[0m\n\u001b[1;32m    854\u001b[0m         \u001b[0;32mif\u001b[0m \u001b[0mioargs\u001b[0m\u001b[0;34m.\u001b[0m\u001b[0mencoding\u001b[0m \u001b[0;32mand\u001b[0m \u001b[0;34m\"b\"\u001b[0m \u001b[0;32mnot\u001b[0m \u001b[0;32min\u001b[0m \u001b[0mioargs\u001b[0m\u001b[0;34m.\u001b[0m\u001b[0mmode\u001b[0m\u001b[0;34m:\u001b[0m\u001b[0;34m\u001b[0m\u001b[0;34m\u001b[0m\u001b[0m\n\u001b[1;32m    855\u001b[0m             \u001b[0;31m# Encoding\u001b[0m\u001b[0;34m\u001b[0m\u001b[0;34m\u001b[0m\u001b[0m\n\u001b[0;32m--> 856\u001b[0;31m             handle = open(\n\u001b[0m\u001b[1;32m    857\u001b[0m                 \u001b[0mhandle\u001b[0m\u001b[0;34m,\u001b[0m\u001b[0;34m\u001b[0m\u001b[0;34m\u001b[0m\u001b[0m\n\u001b[1;32m    858\u001b[0m                 \u001b[0mioargs\u001b[0m\u001b[0;34m.\u001b[0m\u001b[0mmode\u001b[0m\u001b[0;34m,\u001b[0m\u001b[0;34m\u001b[0m\u001b[0;34m\u001b[0m\u001b[0m\n",
            "\u001b[0;31mFileNotFoundError\u001b[0m: [Errno 2] No such file or directory: '/Users/stellazwj/Library/CloudStorage/OneDrive-EmoryUniversity/4. Fourth Year/QTM 385 Data Analytics/Hasbro/processed_scored_df.csv'"
          ]
        }
      ]
    },
    {
      "cell_type": "code",
      "execution_count": null,
      "id": "7bef97c0",
      "metadata": {
        "id": "7bef97c0",
        "outputId": "0a91b293-9c37-4452-f8ba-3868e7df39ad",
        "colab": {
          "base_uri": "https://localhost:8080/",
          "height": 417
        }
      },
      "outputs": [
        {
          "output_type": "error",
          "ename": "FileNotFoundError",
          "evalue": "ignored",
          "traceback": [
            "\u001b[0;31m---------------------------------------------------------------------------\u001b[0m",
            "\u001b[0;31mFileNotFoundError\u001b[0m                         Traceback (most recent call last)",
            "\u001b[0;32m<ipython-input-5-949ee4bd2f4e>\u001b[0m in \u001b[0;36m<cell line: 3>\u001b[0;34m()\u001b[0m\n\u001b[1;32m      1\u001b[0m \u001b[0;32mimport\u001b[0m \u001b[0mpandas\u001b[0m \u001b[0;32mas\u001b[0m \u001b[0mpd\u001b[0m\u001b[0;34m\u001b[0m\u001b[0;34m\u001b[0m\u001b[0m\n\u001b[1;32m      2\u001b[0m \u001b[0mvoc_dir\u001b[0m \u001b[0;34m=\u001b[0m \u001b[0;34m'/Users/stellazwj/Library/CloudStorage/OneDrive-EmoryUniversity/4. Fourth Year/QTM 385 Data Analytics/Hasbro/'\u001b[0m\u001b[0;34m\u001b[0m\u001b[0;34m\u001b[0m\u001b[0m\n\u001b[0;32m----> 3\u001b[0;31m \u001b[0mdf\u001b[0m \u001b[0;34m=\u001b[0m \u001b[0mpd\u001b[0m\u001b[0;34m.\u001b[0m\u001b[0mread_csv\u001b[0m\u001b[0;34m(\u001b[0m\u001b[0;34mf'{voc_dir}processed_scored_df.csv'\u001b[0m\u001b[0;34m)\u001b[0m\u001b[0;34m\u001b[0m\u001b[0;34m\u001b[0m\u001b[0m\n\u001b[0m\u001b[1;32m      4\u001b[0m \u001b[0mdf\u001b[0m\u001b[0;34m[\u001b[0m\u001b[0;34m'reviewTime'\u001b[0m\u001b[0;34m]\u001b[0m \u001b[0;34m=\u001b[0m \u001b[0mpd\u001b[0m\u001b[0;34m.\u001b[0m\u001b[0mto_datetime\u001b[0m\u001b[0;34m(\u001b[0m\u001b[0mdf\u001b[0m\u001b[0;34m[\u001b[0m\u001b[0;34m'reviewTime'\u001b[0m\u001b[0;34m]\u001b[0m\u001b[0;34m,\u001b[0m \u001b[0mformat\u001b[0m\u001b[0;34m=\u001b[0m\u001b[0;34m'%m %d, %Y'\u001b[0m\u001b[0;34m)\u001b[0m\u001b[0;34m\u001b[0m\u001b[0;34m\u001b[0m\u001b[0m\n\u001b[1;32m      5\u001b[0m \u001b[0mdf\u001b[0m\u001b[0;34m[\u001b[0m\u001b[0;34m'vote'\u001b[0m\u001b[0;34m]\u001b[0m \u001b[0;34m=\u001b[0m \u001b[0mdf\u001b[0m\u001b[0;34m[\u001b[0m\u001b[0;34m'vote'\u001b[0m\u001b[0;34m]\u001b[0m\u001b[0;34m.\u001b[0m\u001b[0mfillna\u001b[0m\u001b[0;34m(\u001b[0m\u001b[0;36m0\u001b[0m\u001b[0;34m)\u001b[0m\u001b[0;34m\u001b[0m\u001b[0;34m\u001b[0m\u001b[0m\n",
            "\u001b[0;32m/usr/local/lib/python3.10/dist-packages/pandas/util/_decorators.py\u001b[0m in \u001b[0;36mwrapper\u001b[0;34m(*args, **kwargs)\u001b[0m\n\u001b[1;32m    209\u001b[0m                 \u001b[0;32melse\u001b[0m\u001b[0;34m:\u001b[0m\u001b[0;34m\u001b[0m\u001b[0;34m\u001b[0m\u001b[0m\n\u001b[1;32m    210\u001b[0m                     \u001b[0mkwargs\u001b[0m\u001b[0;34m[\u001b[0m\u001b[0mnew_arg_name\u001b[0m\u001b[0;34m]\u001b[0m \u001b[0;34m=\u001b[0m \u001b[0mnew_arg_value\u001b[0m\u001b[0;34m\u001b[0m\u001b[0;34m\u001b[0m\u001b[0m\n\u001b[0;32m--> 211\u001b[0;31m             \u001b[0;32mreturn\u001b[0m \u001b[0mfunc\u001b[0m\u001b[0;34m(\u001b[0m\u001b[0;34m*\u001b[0m\u001b[0margs\u001b[0m\u001b[0;34m,\u001b[0m \u001b[0;34m**\u001b[0m\u001b[0mkwargs\u001b[0m\u001b[0;34m)\u001b[0m\u001b[0;34m\u001b[0m\u001b[0;34m\u001b[0m\u001b[0m\n\u001b[0m\u001b[1;32m    212\u001b[0m \u001b[0;34m\u001b[0m\u001b[0m\n\u001b[1;32m    213\u001b[0m         \u001b[0;32mreturn\u001b[0m \u001b[0mcast\u001b[0m\u001b[0;34m(\u001b[0m\u001b[0mF\u001b[0m\u001b[0;34m,\u001b[0m \u001b[0mwrapper\u001b[0m\u001b[0;34m)\u001b[0m\u001b[0;34m\u001b[0m\u001b[0;34m\u001b[0m\u001b[0m\n",
            "\u001b[0;32m/usr/local/lib/python3.10/dist-packages/pandas/util/_decorators.py\u001b[0m in \u001b[0;36mwrapper\u001b[0;34m(*args, **kwargs)\u001b[0m\n\u001b[1;32m    329\u001b[0m                     \u001b[0mstacklevel\u001b[0m\u001b[0;34m=\u001b[0m\u001b[0mfind_stack_level\u001b[0m\u001b[0;34m(\u001b[0m\u001b[0;34m)\u001b[0m\u001b[0;34m,\u001b[0m\u001b[0;34m\u001b[0m\u001b[0;34m\u001b[0m\u001b[0m\n\u001b[1;32m    330\u001b[0m                 )\n\u001b[0;32m--> 331\u001b[0;31m             \u001b[0;32mreturn\u001b[0m \u001b[0mfunc\u001b[0m\u001b[0;34m(\u001b[0m\u001b[0;34m*\u001b[0m\u001b[0margs\u001b[0m\u001b[0;34m,\u001b[0m \u001b[0;34m**\u001b[0m\u001b[0mkwargs\u001b[0m\u001b[0;34m)\u001b[0m\u001b[0;34m\u001b[0m\u001b[0;34m\u001b[0m\u001b[0m\n\u001b[0m\u001b[1;32m    332\u001b[0m \u001b[0;34m\u001b[0m\u001b[0m\n\u001b[1;32m    333\u001b[0m         \u001b[0;31m# error: \"Callable[[VarArg(Any), KwArg(Any)], Any]\" has no\u001b[0m\u001b[0;34m\u001b[0m\u001b[0;34m\u001b[0m\u001b[0m\n",
            "\u001b[0;32m/usr/local/lib/python3.10/dist-packages/pandas/io/parsers/readers.py\u001b[0m in \u001b[0;36mread_csv\u001b[0;34m(filepath_or_buffer, sep, delimiter, header, names, index_col, usecols, squeeze, prefix, mangle_dupe_cols, dtype, engine, converters, true_values, false_values, skipinitialspace, skiprows, skipfooter, nrows, na_values, keep_default_na, na_filter, verbose, skip_blank_lines, parse_dates, infer_datetime_format, keep_date_col, date_parser, dayfirst, cache_dates, iterator, chunksize, compression, thousands, decimal, lineterminator, quotechar, quoting, doublequote, escapechar, comment, encoding, encoding_errors, dialect, error_bad_lines, warn_bad_lines, on_bad_lines, delim_whitespace, low_memory, memory_map, float_precision, storage_options)\u001b[0m\n\u001b[1;32m    948\u001b[0m     \u001b[0mkwds\u001b[0m\u001b[0;34m.\u001b[0m\u001b[0mupdate\u001b[0m\u001b[0;34m(\u001b[0m\u001b[0mkwds_defaults\u001b[0m\u001b[0;34m)\u001b[0m\u001b[0;34m\u001b[0m\u001b[0;34m\u001b[0m\u001b[0m\n\u001b[1;32m    949\u001b[0m \u001b[0;34m\u001b[0m\u001b[0m\n\u001b[0;32m--> 950\u001b[0;31m     \u001b[0;32mreturn\u001b[0m \u001b[0m_read\u001b[0m\u001b[0;34m(\u001b[0m\u001b[0mfilepath_or_buffer\u001b[0m\u001b[0;34m,\u001b[0m \u001b[0mkwds\u001b[0m\u001b[0;34m)\u001b[0m\u001b[0;34m\u001b[0m\u001b[0;34m\u001b[0m\u001b[0m\n\u001b[0m\u001b[1;32m    951\u001b[0m \u001b[0;34m\u001b[0m\u001b[0m\n\u001b[1;32m    952\u001b[0m \u001b[0;34m\u001b[0m\u001b[0m\n",
            "\u001b[0;32m/usr/local/lib/python3.10/dist-packages/pandas/io/parsers/readers.py\u001b[0m in \u001b[0;36m_read\u001b[0;34m(filepath_or_buffer, kwds)\u001b[0m\n\u001b[1;32m    603\u001b[0m \u001b[0;34m\u001b[0m\u001b[0m\n\u001b[1;32m    604\u001b[0m     \u001b[0;31m# Create the parser.\u001b[0m\u001b[0;34m\u001b[0m\u001b[0;34m\u001b[0m\u001b[0m\n\u001b[0;32m--> 605\u001b[0;31m     \u001b[0mparser\u001b[0m \u001b[0;34m=\u001b[0m \u001b[0mTextFileReader\u001b[0m\u001b[0;34m(\u001b[0m\u001b[0mfilepath_or_buffer\u001b[0m\u001b[0;34m,\u001b[0m \u001b[0;34m**\u001b[0m\u001b[0mkwds\u001b[0m\u001b[0;34m)\u001b[0m\u001b[0;34m\u001b[0m\u001b[0;34m\u001b[0m\u001b[0m\n\u001b[0m\u001b[1;32m    606\u001b[0m \u001b[0;34m\u001b[0m\u001b[0m\n\u001b[1;32m    607\u001b[0m     \u001b[0;32mif\u001b[0m \u001b[0mchunksize\u001b[0m \u001b[0;32mor\u001b[0m \u001b[0miterator\u001b[0m\u001b[0;34m:\u001b[0m\u001b[0;34m\u001b[0m\u001b[0;34m\u001b[0m\u001b[0m\n",
            "\u001b[0;32m/usr/local/lib/python3.10/dist-packages/pandas/io/parsers/readers.py\u001b[0m in \u001b[0;36m__init__\u001b[0;34m(self, f, engine, **kwds)\u001b[0m\n\u001b[1;32m   1440\u001b[0m \u001b[0;34m\u001b[0m\u001b[0m\n\u001b[1;32m   1441\u001b[0m         \u001b[0mself\u001b[0m\u001b[0;34m.\u001b[0m\u001b[0mhandles\u001b[0m\u001b[0;34m:\u001b[0m \u001b[0mIOHandles\u001b[0m \u001b[0;34m|\u001b[0m \u001b[0;32mNone\u001b[0m \u001b[0;34m=\u001b[0m \u001b[0;32mNone\u001b[0m\u001b[0;34m\u001b[0m\u001b[0;34m\u001b[0m\u001b[0m\n\u001b[0;32m-> 1442\u001b[0;31m         \u001b[0mself\u001b[0m\u001b[0;34m.\u001b[0m\u001b[0m_engine\u001b[0m \u001b[0;34m=\u001b[0m \u001b[0mself\u001b[0m\u001b[0;34m.\u001b[0m\u001b[0m_make_engine\u001b[0m\u001b[0;34m(\u001b[0m\u001b[0mf\u001b[0m\u001b[0;34m,\u001b[0m \u001b[0mself\u001b[0m\u001b[0;34m.\u001b[0m\u001b[0mengine\u001b[0m\u001b[0;34m)\u001b[0m\u001b[0;34m\u001b[0m\u001b[0;34m\u001b[0m\u001b[0m\n\u001b[0m\u001b[1;32m   1443\u001b[0m \u001b[0;34m\u001b[0m\u001b[0m\n\u001b[1;32m   1444\u001b[0m     \u001b[0;32mdef\u001b[0m \u001b[0mclose\u001b[0m\u001b[0;34m(\u001b[0m\u001b[0mself\u001b[0m\u001b[0;34m)\u001b[0m \u001b[0;34m->\u001b[0m \u001b[0;32mNone\u001b[0m\u001b[0;34m:\u001b[0m\u001b[0;34m\u001b[0m\u001b[0;34m\u001b[0m\u001b[0m\n",
            "\u001b[0;32m/usr/local/lib/python3.10/dist-packages/pandas/io/parsers/readers.py\u001b[0m in \u001b[0;36m_make_engine\u001b[0;34m(self, f, engine)\u001b[0m\n\u001b[1;32m   1733\u001b[0m                 \u001b[0;32mif\u001b[0m \u001b[0;34m\"b\"\u001b[0m \u001b[0;32mnot\u001b[0m \u001b[0;32min\u001b[0m \u001b[0mmode\u001b[0m\u001b[0;34m:\u001b[0m\u001b[0;34m\u001b[0m\u001b[0;34m\u001b[0m\u001b[0m\n\u001b[1;32m   1734\u001b[0m                     \u001b[0mmode\u001b[0m \u001b[0;34m+=\u001b[0m \u001b[0;34m\"b\"\u001b[0m\u001b[0;34m\u001b[0m\u001b[0;34m\u001b[0m\u001b[0m\n\u001b[0;32m-> 1735\u001b[0;31m             self.handles = get_handle(\n\u001b[0m\u001b[1;32m   1736\u001b[0m                 \u001b[0mf\u001b[0m\u001b[0;34m,\u001b[0m\u001b[0;34m\u001b[0m\u001b[0;34m\u001b[0m\u001b[0m\n\u001b[1;32m   1737\u001b[0m                 \u001b[0mmode\u001b[0m\u001b[0;34m,\u001b[0m\u001b[0;34m\u001b[0m\u001b[0;34m\u001b[0m\u001b[0m\n",
            "\u001b[0;32m/usr/local/lib/python3.10/dist-packages/pandas/io/common.py\u001b[0m in \u001b[0;36mget_handle\u001b[0;34m(path_or_buf, mode, encoding, compression, memory_map, is_text, errors, storage_options)\u001b[0m\n\u001b[1;32m    854\u001b[0m         \u001b[0;32mif\u001b[0m \u001b[0mioargs\u001b[0m\u001b[0;34m.\u001b[0m\u001b[0mencoding\u001b[0m \u001b[0;32mand\u001b[0m \u001b[0;34m\"b\"\u001b[0m \u001b[0;32mnot\u001b[0m \u001b[0;32min\u001b[0m \u001b[0mioargs\u001b[0m\u001b[0;34m.\u001b[0m\u001b[0mmode\u001b[0m\u001b[0;34m:\u001b[0m\u001b[0;34m\u001b[0m\u001b[0;34m\u001b[0m\u001b[0m\n\u001b[1;32m    855\u001b[0m             \u001b[0;31m# Encoding\u001b[0m\u001b[0;34m\u001b[0m\u001b[0;34m\u001b[0m\u001b[0m\n\u001b[0;32m--> 856\u001b[0;31m             handle = open(\n\u001b[0m\u001b[1;32m    857\u001b[0m                 \u001b[0mhandle\u001b[0m\u001b[0;34m,\u001b[0m\u001b[0;34m\u001b[0m\u001b[0;34m\u001b[0m\u001b[0m\n\u001b[1;32m    858\u001b[0m                 \u001b[0mioargs\u001b[0m\u001b[0;34m.\u001b[0m\u001b[0mmode\u001b[0m\u001b[0;34m,\u001b[0m\u001b[0;34m\u001b[0m\u001b[0;34m\u001b[0m\u001b[0m\n",
            "\u001b[0;31mFileNotFoundError\u001b[0m: [Errno 2] No such file or directory: '/Users/stellazwj/Library/CloudStorage/OneDrive-EmoryUniversity/4. Fourth Year/QTM 385 Data Analytics/Hasbro/processed_scored_df.csv'"
          ]
        }
      ],
      "source": [
        "import pandas as pd\n",
        "#/Users/stellazwj/Library/CloudStorage/OneDrive-EmoryUniversity/4. Fourth Year/QTM 385 Data Analytics/Hasbro/Toys_and_Games_5.json\n",
        "voc_dir = '/Users/stellazwj/Library/CloudStorage/OneDrive-EmoryUniversity/4. Fourth Year/QTM 385 Data Analytics/Hasbro/'\n",
        "df = pd.read_csv(f'{voc_dir}processed_scored_df.csv')\n",
        "df['reviewTime'] = pd.to_datetime(df['reviewTime'], format='%m %d, %Y')\n",
        "df['vote'] = df['vote'].fillna(0)\n",
        "df"
      ]
    },
    {
      "cell_type": "code",
      "execution_count": null,
      "id": "bf5b2f2a",
      "metadata": {
        "id": "bf5b2f2a",
        "outputId": "fdfba861-1d71-4f13-e2e4-7bce18f288b9"
      },
      "outputs": [
        {
          "data": {
            "text/plain": [
              "5    1303266\n",
              "4     272072\n",
              "3     130480\n",
              "1      63396\n",
              "2      58240\n",
              "Name: overall, dtype: int64"
            ]
          },
          "execution_count": 23,
          "metadata": {},
          "output_type": "execute_result"
        }
      ],
      "source": [
        "df['overall'].value_counts()"
      ]
    },
    {
      "cell_type": "code",
      "execution_count": null,
      "id": "7f084ce3",
      "metadata": {
        "id": "7f084ce3",
        "outputId": "703b96b7-fbee-4e5e-db7a-f129bae081fb"
      },
      "outputs": [
        {
          "data": {
            "text/plain": [
              "<AxesSubplot:xlabel='overall', ylabel='reviewText_scored'>"
            ]
          },
          "execution_count": 20,
          "metadata": {},
          "output_type": "execute_result"
        },
        {
          "data": {
            "image/png": "[encoded data removed]",
            "text/plain": [
              "<Figure size 432x288 with 1 Axes>"
            ]
          },
          "metadata": {
            "needs_background": "light"
          },
          "output_type": "display_data"
        }
      ],
      "source": [
        "import seaborn as sns\n",
        "import matplotlib.pyplot as plt\n",
        "\n",
        "sns.pointplot(data = df, x = 'overall', y = 'reviewText_scored')"
      ]
    },
    {
      "cell_type": "code",
      "execution_count": null,
      "id": "b9f1c1ae",
      "metadata": {
        "id": "b9f1c1ae",
        "outputId": "4752abd1-ed77-40f9-b801-68e1f72db953"
      },
      "outputs": [
        {
          "data": {
            "text/plain": [
              "<AxesSubplot:xlabel='overall', ylabel='reviewText_scored'>"
            ]
          },
          "execution_count": 21,
          "metadata": {},
          "output_type": "execute_result"
        },
        {
          "data": {
            "image/png": "[encoded data removed]",
            "text/plain": [
              "<Figure size 432x288 with 1 Axes>"
            ]
          },
          "metadata": {
            "needs_background": "light"
          },
          "output_type": "display_data"
        }
      ],
      "source": [
        "sns.boxplot(data = df, x = 'overall', y = 'reviewText_scored')"
      ]
    }
  ],
  "metadata": {
    "kernelspec": {
      "display_name": "Python 3 (ipykernel)",
      "language": "python",
      "name": "python3"
    },
    "language_info": {
      "codemirror_mode": {
        "name": "ipython",
        "version": 3
      },
      "file_extension": ".py",
      "mimetype": "text/x-python",
      "name": "python",
      "nbconvert_exporter": "python",
      "pygments_lexer": "ipython3",
      "version": "3.9.12"
    },
    "colab": {
      "provenance": []
    }
  },
  "nbformat": 4,
  "nbformat_minor": 5
}